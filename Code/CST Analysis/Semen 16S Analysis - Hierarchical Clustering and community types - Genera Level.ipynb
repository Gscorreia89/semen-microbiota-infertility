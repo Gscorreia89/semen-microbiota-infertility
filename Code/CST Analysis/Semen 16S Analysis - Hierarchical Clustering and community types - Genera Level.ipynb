{
 "cells": [
  {
   "cell_type": "markdown",
   "metadata": {},
   "source": [
    "## Community State Type Analysis - Genera Level\n",
    "\n",
    "This notebook contains the steps to perform hierarchical clustering and derive community state types."
   ]
  },
  {
   "cell_type": "code",
   "execution_count": null,
   "metadata": {},
   "outputs": [],
   "source": [
    "import pandas as pds\n",
    "import numpy as np\n",
    "import matplotlib.pyplot as plt\n",
    "from matplotlib.colors import ListedColormap\n",
    "import seaborn as sns\n",
    "from scipy.spatial import distance\n",
    "from sklearn.metrics import silhouette_samples\n",
    "import matplotlib.ticker as ticker\n",
    "from CST_Clustering import cluster16SMatrix, validateClusters\n",
    "import os\n",
    "\n",
    "os.makedirs('../Analysis Figures/CSTAnalysis/', exist_ok=True)"
   ]
  },
  {
   "cell_type": "markdown",
   "metadata": {},
   "source": [
    "The hierarchical clustering will be performed on the data matrix with counts aggregated per species (sum of all OTUs for a given species). "
   ]
  },
  {
   "cell_type": "code",
   "execution_count": null,
   "metadata": {},
   "outputs": [],
   "source": [
    "# Read the 16S count data matrix\n",
    "counts_genera = pds.read_csv('../../Data/Genera_Counts_Table.csv')\n",
    "\n",
    "clinicalData = pds.read_csv('../../Data/ClinicalData.csv')\n",
    "\n",
    "clinicalData = clinicalData.loc[:, ['Sample Name', 'Classification']]\n",
    "\n",
    "counts_genera = clinicalData.merge(counts_genera, on='Sample Name')\n",
    "# Sort columns by species count - to facilitate plots downstream\n",
    "countsOrder = np.argsort(counts_genera.iloc[:, 4:].sum())[::-1]\n",
    "counts_genera = pds.concat([counts_genera.iloc[:, 0:4], counts_genera.iloc[:, 4:].iloc[:, countsOrder]], axis=1)"
   ]
  },
  {
   "cell_type": "code",
   "execution_count": null,
   "metadata": {},
   "outputs": [],
   "source": [
    "taxonomyDataset = pds.read_csv('../../Data/Genera_Taxonomy.csv')"
   ]
  },
  {
   "cell_type": "code",
   "execution_count": null,
   "metadata": {},
   "outputs": [],
   "source": [
    "# Select only the columns containing counts. The index starts at 27\n",
    "counts_matrix = counts_genera.iloc[:, 4::]\n",
    "counts_matrix.index = counts_genera['Sample Name'].values\n",
    "counts_matrix.index = counts_matrix.index.set_names('SampleID')\n",
    "\n",
    "counts_matrix.columns = taxonomyDataset['FullName'].values[countsOrder]"
   ]
  },
  {
   "cell_type": "markdown",
   "metadata": {},
   "source": [
    "# Selecting the number of clusters - CST's\n",
    "\n",
    "In the next cell, the \"optimal\" number of clusters is estimated using the silhouette score. \n",
    "The validateClusters function is defined separately in the *CST_Clustering.py* file."
   ]
  },
  {
   "cell_type": "code",
   "execution_count": null,
   "metadata": {},
   "outputs": [],
   "source": [
    "cluster_validation = validateClusters(counts_matrix, distanceMetric='jensenshannon', clusterMethod='ward', method='silhouette')\n",
    "fig, ax = plt.subplots(dpi=150, figsize=(6, 3))\n",
    "ax.plot(cluster_validation[0], cluster_validation[1], '-o')\n",
    "ax.xaxis.set_major_locator(ticker.MultipleLocator(2))\n",
    "ax.set_xlabel(\"Number of Clusters\")\n",
    "ax.set_ylabel(\"Average {0} score\".format(cluster_validation[2]))\n",
    "\n",
    "\n",
    "fig.savefig('../Analysis Figures/CSTAnalysis/Semen_16S_SilhouetteValidation_GeneraLevel.png')\n",
    "fig.savefig('../Analysis Figures/CSTAnalysis/Semen_16S_SilhouetteValidation_GeneraLevel.svg')\n",
    "plt.show()\n",
    "\n",
    "print(\"The suggested number of clusters is {0}\".format(cluster_validation[0][np.argmax(cluster_validation[1])]))"
   ]
  },
  {
   "cell_type": "markdown",
   "metadata": {},
   "source": [
    "## Perform the Clustering of the CLR transformed 16S data matrix\n",
    "\n",
    "Vaginal Community State types are obtained as described by Ravel et al<sup>1</sup> performing Ward hierarchical clustering and using Jensen-Shannon divergence as distance metric.\n",
    "\n",
    "Based on the silhouette score suggestion we 3 clusters.\n",
    "\n",
    "1 - doi: 10.1073/pnas.1002611107"
   ]
  },
  {
   "cell_type": "code",
   "execution_count": null,
   "metadata": {},
   "outputs": [],
   "source": [
    "CST_Clustering = cluster16SMatrix(counts_matrix, nClusters=3, distanceMetric='jensenshannon', clusterMethod='ward')"
   ]
  },
  {
   "cell_type": "markdown",
   "metadata": {},
   "source": [
    "### Heatmap plot with the clustering dendrogram"
   ]
  },
  {
   "cell_type": "code",
   "execution_count": null,
   "metadata": {},
   "outputs": [],
   "source": [
    "from matplotlib.colors import rgb2hex\n",
    "from matplotlib.pyplot import gcf\n",
    "\n",
    "nCST = len(CST_Clustering['clusterID'].unique())\n",
    "\n",
    "cmapCST = ListedColormap(sns.color_palette(\"Set1\", nCST))\n",
    "cmapClassification = ListedColormap(sns.color_palette(\"Set2\", 5))\n",
    "\n",
    "ClassificationLevels = pds.Categorical(counts_genera['Classification']).categories\n",
    "ClassificationRowColor = pds.Series(pds.Categorical(counts_genera['Classification']).codes)\n",
    "\n",
    "row_colors = np.c_[CST_Clustering['clusterID'].map(cmapCST), ClassificationRowColor.map(cmapClassification)]\n",
    "row_colors = np.vectorize(rgb2hex)(row_colors)\n",
    "\n",
    "cstMap = sns.clustermap(np.log(counts_matrix.values[:, 0:25].T + 1), col_linkage=CST_Clustering['LinkageMatrix'], \n",
    "                        row_cluster=False, col_colors=row_colors.T, yticklabels=counts_matrix.columns[0:25], cmap='viridis', xticklabels=False)\n",
    "\n",
    "# Add legend with cluster assignments to match the relative abundance plots for interpretation (Genera + Species)\n",
    "for labelIdx in range(nCST):\n",
    "    cstMap.ax_col_dendrogram.bar(0, 20, color=cmapCST(labelIdx), label='Cluster ' + str(labelIdx + 1), linewidth=0)\n",
    "\n",
    "# cstMap.ax_col_dendrogram.bar(0, 20, color='white', label=' ', linewidth=0)\n",
    "\n",
    "cstMap.ax_col_dendrogram.legend(title='Cluster',bbox_to_anchor=(1.3, 1), loc='upper center', ncol=3)\n",
    "\n",
    "labelsClassification = list()\n",
    "for labelIdx in range(5):\n",
    "    currentLabel = cstMap.ax_col_dendrogram.bar(0, 0, color=cmapClassification(labelIdx), label=ClassificationLevels[labelIdx], linewidth=0)\n",
    "    labelsClassification.append(currentLabel)\n",
    "\n",
    "legendClassification = plt.legend(labelsClassification, ClassificationLevels, loc=\"upper center\", title='Classification', ncol=2, bbox_to_anchor=(1.01, 0.92), bbox_transform=gcf().transFigure)\n",
    "plt.gca().add_artist(legendClassification)\n",
    "\n",
    "# Increase fontsize\n",
    "cstMap.cax.set_position([0.05, .3, 0.05, .2])\n",
    "cstMap.cax.set_ylabel('Log(Counts + 1)')\n",
    "\n",
    "cstMap.savefig('../Analysis Figures/CSTAnalysis/Semen_16S_CSTClustering_Genera.png', dpi=300)\n",
    "cstMap.savefig('../Analysis Figures/CSTAnalysis/Semen_16S_CSTClustering_Genera.svg', dpi=300)\n",
    "\n",
    "plt.show()"
   ]
  },
  {
   "cell_type": "code",
   "execution_count": null,
   "metadata": {},
   "outputs": [],
   "source": [
    "# Extract the palette for R plots \n",
    "from matplotlib.colors import rgb2hex\n",
    "[rgb2hex(x) for x in pds.Series([0,1,2]).map(cmapCST)]"
   ]
  },
  {
   "cell_type": "markdown",
   "metadata": {},
   "source": [
    "To inspect the characteristic microbial composition of each cluster, we plot the mean relative abundances of the top 6 species per CST cluster."
   ]
  },
  {
   "cell_type": "code",
   "execution_count": null,
   "metadata": {},
   "outputs": [],
   "source": [
    "uniqueValues = np.unique(np.array([x[1].index[0:6] for x in CST_Clustering['ClusterAbundances']]))\n",
    "\n",
    "cmapTaxa = ListedColormap(sns.color_palette(\"tab20\", len(uniqueValues)))\n",
    "# cmapTaxa = sns.color_palette(\"Set1\", len(uniqueValues))\n",
    "\n",
    "fig, ax = plt.subplots(1, 3, dpi=300, figsize=(12,6), sharey=True)\n",
    "\n",
    "for idx, cst in enumerate(CST_Clustering['ClusterAbundances']):\n",
    "    \n",
    "    currentColorId = cst[1][0:6].index\n",
    "    currentColorId = np.searchsorted(uniqueValues, currentColorId)\n",
    "    \n",
    "    ax[idx].bar(x=np.arange(0, 6), height=cst[1][0:6]*100, yerr=cst[2][0:6]*100,\n",
    "                label='Cluster ' + str(idx + 1) , color=cmapTaxa(currentColorId), **{'error_kw':{'lolims':True}})\n",
    "    \n",
    "    ax[idx].xaxis.set_ticks(np.arange(0, 6), labels=cst[1][0:6].index.values)\n",
    "    ax[idx].xaxis.set_tick_params(rotation=90, labelsize=15)\n",
    "    ax[idx].tick_params('y', labelsize=15)\n",
    "    ax[idx].yaxis.set_ticks(np.linspace(0, 100, 5))\n",
    "    ax[idx].set_title(\"Cluster Number: {0}\".format(str(cst[0] + 1)), fontsize=20)\n",
    "    \n",
    "ax[0].set_ylabel('Relative abundance (%)', fontsize=15)\n",
    "\n",
    "fig.tight_layout()\n",
    "fig.savefig('../Analysis Figures/CSTAnalysis/Semen_16S_CSTClustering_GeneraDescription.png')\n",
    "fig.savefig('../Analysis Figures/CSTAnalysis/Semen_16S_CSTClustering_GeneraDescription.svg')"
   ]
  },
  {
   "cell_type": "markdown",
   "metadata": {},
   "source": [
    "### Assess the silhouette values for samples accross the CST clusters"
   ]
  },
  {
   "cell_type": "code",
   "execution_count": null,
   "metadata": {},
   "outputs": [],
   "source": [
    "silhFrame = pds.DataFrame({'Cluster':CST_Clustering['clusterID'], 'Silhouette':CST_Clustering['SilhouetteSamples']})\n",
    "silhFrame['Cluster'] = silhFrame['Cluster'] + 1 \n",
    "fig, ax = plt.subplots(dpi=300)\n",
    "sns.stripplot(data=silhFrame, x='Cluster', y='Silhouette', ax=ax, palette='Set1')\n",
    "ax.set_ylabel('Silhouette score', fontsize = 15)\n",
    "ax.set_xlabel('', fontsize = 15)\n",
    "ax.tick_params('y', labelsize=15)\n",
    "ax.tick_params('x', labelsize=15)\n",
    "ax.set_xticklabels(['Cluster 1\\n(n=113)', 'Cluster 2\\n(n=83)', 'Cluster 3\\n(n=27)'])\n",
    "\n",
    "fig.savefig('../Analysis Figures/CSTAnalysis/Semen_16S_CSTClustering_SilhouetteSamples_Genera.png')\n",
    "fig.savefig('../Analysis Figures/CSTAnalysis/Semen_16S_CSTClustering_SilhouetteSamples_Genera.svg')"
   ]
  },
  {
   "cell_type": "markdown",
   "metadata": {},
   "source": [
    "## Export the CST Assignments\n",
    "\n",
    "\n",
    "After obtaining the Community State Type information with hierarchical clustering, we export a dataframe containing the results "
   ]
  },
  {
   "cell_type": "code",
   "execution_count": null,
   "metadata": {},
   "outputs": [],
   "source": [
    "CSTAssignments = pds.DataFrame({'CST':CST_Clustering['clusterID'] + 1,\n",
    "                                'SilhouetteValues':CST_Clustering['SilhouetteSamples']})\n",
    "\n",
    "CSTAssignments.index = counts_matrix.index"
   ]
  },
  {
   "cell_type": "code",
   "execution_count": null,
   "metadata": {},
   "outputs": [],
   "source": [
    "os.makedirs('../Results/CST_Analysis', exist_ok=True)\n",
    "CSTAssignments.to_csv('../Results/CST_Analysis/Semen_CST_GeneraAssignments.csv')"
   ]
  },
  {
   "cell_type": "code",
   "execution_count": null,
   "metadata": {},
   "outputs": [],
   "source": []
  }
 ],
 "metadata": {
  "kernelspec": {
   "display_name": "Python 3 (ipykernel)",
   "language": "python",
   "name": "python3"
  },
  "language_info": {
   "codemirror_mode": {
    "name": "ipython",
    "version": 3
   },
   "file_extension": ".py",
   "mimetype": "text/x-python",
   "name": "python",
   "nbconvert_exporter": "python",
   "pygments_lexer": "ipython3",
   "version": "3.9.17"
  }
 },
 "nbformat": 4,
 "nbformat_minor": 4
}
